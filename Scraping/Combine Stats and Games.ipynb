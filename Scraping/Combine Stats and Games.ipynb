{
 "cells": [
  {
   "cell_type": "code",
   "execution_count": 1,
   "id": "a72c0be3",
   "metadata": {},
   "outputs": [],
   "source": [
    "import pandas as pd"
   ]
  },
  {
   "cell_type": "code",
   "execution_count": 34,
   "id": "e553adf6",
   "metadata": {},
   "outputs": [],
   "source": [
    "# Combine the games with the prev_years stats\n",
    "\n",
    "year = 2006\n",
    "prev_year = year - 1\n",
    "\n",
    "games = pd.read_csv(f'MLB {year} Games.csv', parse_dates=['Date'])\n",
    "stats = pd.read_csv('MLB All Stats.csv')\n",
    "\n",
    "# Find a year's columns\n",
    "cols = stats.columns\n",
    "str_cols = [str(col) for col in cols]\n",
    "sum('2021' in s for s in str_cols)\n",
    "remove_dupes = [i[5:] for i in str_cols]\n",
    "one_year_cols = []\n",
    "[one_year_cols.append(x) for x in remove_dupes if x not in one_year_cols]\n",
    "one_year_cols.pop(0)\n",
    "final_cols = [str(year) + ' ' + i for i in one_year_cols]\n",
    "final_cols.insert(0, 'Tm')\n",
    "stats = pd.read_csv('MLB All Stats.csv', usecols=final_cols)\n",
    "\n",
    "# Combine stats and games\n",
    "\n",
    "# Make home and away stat dfs\n",
    "home_stats = stats.add_prefix('H ')\n",
    "vis_stats = stats.add_prefix('V ')\n",
    "\n",
    "# Rename TM column\n",
    "home_stats.rename(columns={'H Tm': 'Home'}, inplace=True)\n",
    "vis_stats.rename(columns={'V Tm': 'Visitor'}, inplace=True)\n",
    "\n",
    "# Merge Stats and games\n",
    "merged = games.merge(home_stats, on='Home')\n",
    "merged = merged.merge(vis_stats, on='Visitor')\n",
    "test = merged.copy()"
   ]
  },
  {
   "cell_type": "code",
   "execution_count": 47,
   "id": "6c12d3bb",
   "metadata": {},
   "outputs": [],
   "source": [
    "# Current year combined stats and games\n",
    "test = pd.DataFrame()\n",
    "\n",
    "years = [i for i in range(2006,2022)]\n",
    "\n",
    "for year in years:\n",
    "    prev_year = year - 1\n",
    "    \n",
    "    # Get the right cols and insert Tm\n",
    "    final_cols = [str(prev_year) + ' ' + i for i in one_year_cols]\n",
    "    final_cols.insert(0, 'Tm')\n",
    "\n",
    "    # Read Data\n",
    "    games = pd.read_csv(f'MLB {year} Games.csv', parse_dates=['Date'])\n",
    "    stats = pd.read_csv('MLB All Stats.csv', usecols=final_cols)\n",
    "     \n",
    "    # Make home and away stat dfs\n",
    "    home_stats = stats.add_prefix('H ')\n",
    "    vis_stats = stats.add_prefix('V ')\n",
    "    \n",
    "    # Rename cols\n",
    "    home_stats.columns = home_stats.columns.str.replace(f'{prev_year}', '')\n",
    "    vis_stats.columns = vis_stats.columns.str.replace(f'{prev_year}', '')\n",
    "\n",
    "    # Rename TM column\n",
    "    home_stats.rename(columns={'H Tm': 'Home'}, inplace=True)\n",
    "    vis_stats.rename(columns={'V Tm': 'Visitor'}, inplace=True)\n",
    "\n",
    "    # Merge Stats and games\n",
    "    merged = games.merge(home_stats, on='Home')\n",
    "    merged = merged.merge(vis_stats, on='Visitor')\n",
    "    \n",
    "    # Sort DF\n",
    "    merged.sort_values(by=['Date'], inplace=True)\n",
    "    \n",
    "    # Remove year from column names\n",
    "    merged.columns = merged.columns.str.replace(f'{prev_year}', '')\n",
    "    \n",
    "    # Append to original\n",
    "    test = pd.concat([test, merged], axis=0)"
   ]
  },
  {
   "cell_type": "code",
   "execution_count": 48,
   "id": "87c3b564",
   "metadata": {},
   "outputs": [],
   "source": [
    "# test[test['Visitor'] == 'Atlanta Braves']\n",
    "test.to_csv('Current Stats and Games.csv', index=False)"
   ]
  },
  {
   "cell_type": "code",
   "execution_count": 49,
   "id": "792332c5",
   "metadata": {},
   "outputs": [],
   "source": [
    "# Previous stats and current games combine\n",
    "test = pd.DataFrame()\n",
    "\n",
    "years = [i for i in range(2006,2022)]\n",
    "\n",
    "for year in years:\n",
    "    \n",
    "    # Get the right cols\n",
    "    final_cols = [str(year) + ' ' + i for i in one_year_cols]\n",
    "    final_cols.insert(0, 'Tm')\n",
    "\n",
    "    # Read Data\n",
    "    games = pd.read_csv(f'MLB {year} Games.csv', parse_dates=['Date'])\n",
    "    stats = pd.read_csv('MLB All Stats.csv', usecols=final_cols)\n",
    "    \n",
    "    # Make home and away stat dfs\n",
    "    home_stats = stats.add_prefix('H ')\n",
    "    vis_stats = stats.add_prefix('V ')\n",
    "    \n",
    "    # Rename cols\n",
    "    home_stats.columns = home_stats.columns.str.replace(f'{year}', '')\n",
    "    vis_stats.columns = vis_stats.columns.str.replace(f'{year}', '')\n",
    "\n",
    "    # Rename TM column\n",
    "    home_stats.rename(columns={'H Tm': 'Home'}, inplace=True)\n",
    "    vis_stats.rename(columns={'V Tm': 'Visitor'}, inplace=True)\n",
    "\n",
    "    # Merge Stats and games\n",
    "    merged = games.merge(home_stats, on='Home')\n",
    "    merged = merged.merge(vis_stats, on='Visitor')\n",
    "    \n",
    "    # Sort DF\n",
    "    merged.sort_values(by=['Date'], inplace=True)\n",
    "    \n",
    "    # Remove year from column names\n",
    "    merged.columns = merged.columns.str.replace(f'{year}', '')\n",
    "    \n",
    "    # Append to original\n",
    "    test = pd.concat([test, merged], axis=0)"
   ]
  },
  {
   "cell_type": "code",
   "execution_count": 50,
   "id": "8df501b3",
   "metadata": {},
   "outputs": [],
   "source": [
    "test.to_csv('Previous Stats and Games.csv', index=False)"
   ]
  },
  {
   "cell_type": "code",
   "execution_count": 54,
   "id": "9a941611-3ff6-4e59-88f0-83d6dc8e06ba",
   "metadata": {},
   "outputs": [
    {
     "name": "stdout",
     "output_type": "stream",
     "text": [
      "Missing Stats in all years:  384  missing stats.\n"
     ]
    }
   ],
   "source": [
    "mlb_all = pd.read_csv('MLB All Stats.csv')\n",
    "print('Missing Stats in all years: ',mlb_all.isna().sum().sum(), ' missing stats.')"
   ]
  },
  {
   "cell_type": "code",
   "execution_count": null,
   "id": "81ef30cf-44c2-419b-aab2-f8b2af3b419c",
   "metadata": {},
   "outputs": [],
   "source": []
  }
 ],
 "metadata": {
  "kernelspec": {
   "display_name": "Python 3 (ipykernel)",
   "language": "python",
   "name": "python3"
  },
  "language_info": {
   "codemirror_mode": {
    "name": "ipython",
    "version": 3
   },
   "file_extension": ".py",
   "mimetype": "text/x-python",
   "name": "python",
   "nbconvert_exporter": "python",
   "pygments_lexer": "ipython3",
   "version": "3.9.6"
  }
 },
 "nbformat": 4,
 "nbformat_minor": 5
}
